{
  "cells": [
    {
      "cell_type": "markdown",
      "id": "030f2965",
      "metadata": {
        "id": "030f2965"
      },
      "source": [
        "Importing Libraries"
      ]
    },
    {
      "cell_type": "code",
      "execution_count": 33,
      "id": "bc3bdc45",
      "metadata": {
        "id": "bc3bdc45"
      },
      "outputs": [],
      "source": [
        "import pandas as pd\n",
        "import numpy as np\n",
        "import re\n",
        "import string\n",
        "from nltk.corpus import stopwords\n",
        "from nltk.stem import WordNetLemmatizer\n",
        "from sklearn.model_selection import train_test_split\n",
        "from sklearn.feature_extraction.text import TfidfVectorizer\n",
        "from sklearn.naive_bayes import MultinomialNB\n",
        "from sklearn.metrics import confusion_matrix, accuracy_score\n",
        "import matplotlib.pyplot as plt\n",
        "import seaborn as sns"
      ]
    },
    {
      "cell_type": "code",
      "source": [
        "import nltk\n",
        "nltk.download('stopwords')\n"
      ],
      "metadata": {
        "colab": {
          "base_uri": "https://localhost:8080/"
        },
        "id": "kv6b1wvUADBS",
        "outputId": "f53bd9be-ac68-47b5-a23a-6c5e436c43c0"
      },
      "id": "kv6b1wvUADBS",
      "execution_count": 12,
      "outputs": [
        {
          "output_type": "stream",
          "name": "stderr",
          "text": [
            "[nltk_data] Downloading package stopwords to /root/nltk_data...\n",
            "[nltk_data]   Unzipping corpora/stopwords.zip.\n"
          ]
        },
        {
          "output_type": "execute_result",
          "data": {
            "text/plain": [
              "True"
            ]
          },
          "metadata": {},
          "execution_count": 12
        }
      ]
    },
    {
      "cell_type": "code",
      "source": [
        "import nltk\n",
        "nltk.download('wordnet')\n"
      ],
      "metadata": {
        "colab": {
          "base_uri": "https://localhost:8080/"
        },
        "id": "QAg5A7jXALpf",
        "outputId": "aa120d87-6425-4574-f206-d2c2773e1e0f"
      },
      "id": "QAg5A7jXALpf",
      "execution_count": 14,
      "outputs": [
        {
          "output_type": "stream",
          "name": "stderr",
          "text": [
            "[nltk_data] Downloading package wordnet to /root/nltk_data...\n"
          ]
        },
        {
          "output_type": "execute_result",
          "data": {
            "text/plain": [
              "True"
            ]
          },
          "metadata": {},
          "execution_count": 14
        }
      ]
    },
    {
      "cell_type": "code",
      "source": [
        "import pandas as pd\n",
        "\n",
        "# Read the original CSV file\n",
        "df = pd.read_csv(\"NewHeadlines.csv\")\n",
        "\n",
        "# Select only the \"Label\" and \"Title\" columns\n",
        "new_df = df[[\"LABEL\", \"Headline\"]]\n",
        "\n",
        "# Write the new DataFrame to a new CSV file\n",
        "new_df.to_csv(\"Comment_Data.csv\", index=False)\n",
        "\n",
        "# Display the new DataFrame\n",
        "print(new_df)\n"
      ],
      "metadata": {
        "colab": {
          "base_uri": "https://localhost:8080/"
        },
        "id": "vzqKq2Wm8eun",
        "outputId": "542d8187-cb72-40e3-d38f-6dc70590e872"
      },
      "id": "vzqKq2Wm8eun",
      "execution_count": 7,
      "outputs": [
        {
          "output_type": "stream",
          "name": "stdout",
          "text": [
            "              LABEL                                           Headline\n",
            "0         Elon Musk                                            Removed\n",
            "1         Elon Musk  officials investigating Elon Musk over handlin...\n",
            "2         Elon Musk  Lemon will longer have exclusive series former...\n",
            "3         Elon Musk  Elon Musk spent better part year complaining a...\n",
            "4         Elon Musk  Elon Musk said startup will open source Grok l...\n",
            "..              ...                                                ...\n",
            "495  Warren Buffett                                                NaN\n",
            "496  Warren Buffett                                                NaN\n",
            "497  Warren Buffett                                                NaN\n",
            "498  Warren Buffett                                                NaN\n",
            "499  Warren Buffett                                                NaN\n",
            "\n",
            "[500 rows x 2 columns]\n"
          ]
        }
      ]
    },
    {
      "cell_type": "code",
      "source": [
        "!pip install langdetect\n"
      ],
      "metadata": {
        "colab": {
          "base_uri": "https://localhost:8080/"
        },
        "id": "wC-ACNwhBYt7",
        "outputId": "f25529a3-78ca-4582-dc38-1fc1724cfe9d"
      },
      "id": "wC-ACNwhBYt7",
      "execution_count": 24,
      "outputs": [
        {
          "output_type": "stream",
          "name": "stdout",
          "text": [
            "Collecting langdetect\n",
            "  Downloading langdetect-1.0.9.tar.gz (981 kB)\n",
            "\u001b[2K     \u001b[90m━━━━━━━━━━━━━━━━━━━━━━━━━━━━━━━━━━━━━━━━\u001b[0m \u001b[32m981.5/981.5 kB\u001b[0m \u001b[31m7.1 MB/s\u001b[0m eta \u001b[36m0:00:00\u001b[0m\n",
            "\u001b[?25h  Preparing metadata (setup.py) ... \u001b[?25l\u001b[?25hdone\n",
            "Requirement already satisfied: six in /usr/local/lib/python3.10/dist-packages (from langdetect) (1.16.0)\n",
            "Building wheels for collected packages: langdetect\n",
            "  Building wheel for langdetect (setup.py) ... \u001b[?25l\u001b[?25hdone\n",
            "  Created wheel for langdetect: filename=langdetect-1.0.9-py3-none-any.whl size=993227 sha256=9e64515d4e0b903af9be021262c8028f803d4a8cabb5ef35a7dd3528f1a51cde\n",
            "  Stored in directory: /root/.cache/pip/wheels/95/03/7d/59ea870c70ce4e5a370638b5462a7711ab78fba2f655d05106\n",
            "Successfully built langdetect\n",
            "Installing collected packages: langdetect\n",
            "Successfully installed langdetect-1.0.9\n"
          ]
        }
      ]
    },
    {
      "cell_type": "markdown",
      "id": "f647e22b",
      "metadata": {
        "id": "f647e22b"
      },
      "source": [
        "Loading Data and Preprocessing"
      ]
    },
    {
      "cell_type": "code",
      "execution_count": 25,
      "id": "d6b1070b",
      "metadata": {
        "colab": {
          "base_uri": "https://localhost:8080/"
        },
        "id": "d6b1070b",
        "outputId": "dae8cac6-5cc3-4cce-fd8b-3fb2e2073b6f"
      },
      "outputs": [
        {
          "output_type": "stream",
          "name": "stdout",
          "text": [
            "       LABEL                                           Headline\n",
            "0  Elon Musk                                                   \n",
            "1  Elon Musk  official investigating elon musk handling twit...\n",
            "2  Elon Musk  lemon longer exclusive series former host say ...\n",
            "3  Elon Musk  elon musk spent better part year complaining i...\n",
            "4  Elon Musk  elon musk said startup open source grok later ...\n"
          ]
        }
      ],
      "source": [
        "import pandas as pd\n",
        "from langdetect import detect\n",
        "import re\n",
        "from nltk.corpus import stopwords\n",
        "from nltk.stem import WordNetLemmatizer\n",
        "\n",
        "# Read the original CSV file\n",
        "df = pd.read_csv(\"NewHeadlines.csv\")\n",
        "\n",
        "# Select only the \"LABEL\" and \"Headline\" columns\n",
        "new_df = df[[\"LABEL\", \"Headline\"]]\n",
        "\n",
        "# Write the new DataFrame to a new CSV file\n",
        "new_df.to_csv(\"Comment_Data.csv\", index=False)\n",
        "\n",
        "# Load the data\n",
        "data = pd.read_csv('Comment_Data.csv')\n",
        "\n",
        "# Text preprocessing function\n",
        "def preprocess_text(text):\n",
        "    # Check if the input is a string, otherwise return an empty string\n",
        "    if not isinstance(text, str):\n",
        "        return ''\n",
        "\n",
        "    # Lowercase the text\n",
        "    text = text.lower()\n",
        "\n",
        "    # Remove special characters and digits\n",
        "    text = re.sub(r'[^a-z]+', ' ', text)\n",
        "\n",
        "    # Tokenize the words\n",
        "    words = text.split()\n",
        "\n",
        "    # Filter out non-English words\n",
        "    def filter_english(text):\n",
        "        try:\n",
        "            # Detect the language of the text\n",
        "            lang = detect(text)\n",
        "            # Return the text if it's English, otherwise return an empty string\n",
        "            if lang == 'en':\n",
        "                return text\n",
        "            else:\n",
        "                return ''\n",
        "        except:\n",
        "            return ''  # Skip text that couldn't be detected\n",
        "\n",
        "    # Apply the language filtering\n",
        "    filtered_text = filter_english(text)\n",
        "\n",
        "    if filtered_text == '':\n",
        "        return filtered_text  # Return empty string if the text is not English\n",
        "\n",
        "    # Remove stopwords\n",
        "    stop_words = set(stopwords.words('english'))\n",
        "    words = [word for word in words if word not in stop_words]\n",
        "\n",
        "    # Lemmatize the words\n",
        "    lemmatizer = WordNetLemmatizer()\n",
        "    words = [lemmatizer.lemmatize(word) for word in words]\n",
        "\n",
        "    # Join the words back into a single string\n",
        "    text = ' '.join(words)\n",
        "\n",
        "    return text\n",
        "\n",
        "# Preprocess the data\n",
        "data['Headline'] = data['Headline'].apply(preprocess_text)\n",
        "\n",
        "# Display the preprocessed data\n",
        "print(data.head())\n"
      ]
    },
    {
      "cell_type": "markdown",
      "id": "84327635",
      "metadata": {
        "id": "84327635"
      },
      "source": [
        "Splitting the data in Training and Testing Data"
      ]
    },
    {
      "cell_type": "code",
      "execution_count": 26,
      "id": "2babe2ed",
      "metadata": {
        "id": "2babe2ed"
      },
      "outputs": [],
      "source": [
        "# Split the data into Training and Testing sets\n",
        "X = data['Headline']\n",
        "y = data['LABEL']\n",
        "X_train, X_test, y_train, y_test = train_test_split(X, y, test_size=0.2, random_state=42)\n"
      ]
    },
    {
      "cell_type": "code",
      "execution_count": 27,
      "id": "14b400d8",
      "metadata": {
        "scrolled": true,
        "colab": {
          "base_uri": "https://localhost:8080/"
        },
        "id": "14b400d8",
        "outputId": "7ba4bc84-16ab-4d74-db19-f94b7f97d7bf"
      },
      "outputs": [
        {
          "output_type": "stream",
          "name": "stdout",
          "text": [
            "249                                                     \n",
            "433                                                     \n",
            "19     tesla elon musk tell staff mandatory north ame...\n",
            "322    three year boycott plummeting rating major ove...\n",
            "332    band moment investor strong stock index gain c...\n",
            "                             ...                        \n",
            "106    billionaire like elon musk jeff bezos huge pla...\n",
            "270                                 bill gate terrapower\n",
            "348                                                     \n",
            "435    come stock investing many people assume best r...\n",
            "102    jeff bezos earth fund dedicating million impro...\n",
            "Name: Headline, Length: 400, dtype: object 361    swarm bee forced nearly hour disruption quarte...\n",
            "73     analyst indicated number daily user falling ye...\n",
            "374    larry ellison said oracle working spacex creat...\n",
            "155                                                     \n",
            "104    altman cited post musk sent jeff bezos silver ...\n",
            "                             ...                        \n",
            "347                                                 orcl\n",
            "86                                                      \n",
            "75                                                      \n",
            "438                                                     \n",
            "15     according report washington post former presid...\n",
            "Name: Headline, Length: 100, dtype: object 249        Bill Gates\n",
            "433    Warren Buffett\n",
            "19          Elon Musk\n",
            "322     Larry Ellison\n",
            "332     Larry Ellison\n",
            "            ...      \n",
            "106        Jeff Bezos\n",
            "270        Bill Gates\n",
            "348     Larry Ellison\n",
            "435    Warren Buffett\n",
            "102        Jeff Bezos\n",
            "Name: LABEL, Length: 400, dtype: object 361     Larry Ellison\n",
            "73          Elon Musk\n",
            "374     Larry Ellison\n",
            "155        Jeff Bezos\n",
            "104        Jeff Bezos\n",
            "            ...      \n",
            "347     Larry Ellison\n",
            "86          Elon Musk\n",
            "75          Elon Musk\n",
            "438    Warren Buffett\n",
            "15          Elon Musk\n",
            "Name: LABEL, Length: 100, dtype: object\n"
          ]
        }
      ],
      "source": [
        "print(X_train, X_test, y_train, y_test)"
      ]
    },
    {
      "cell_type": "code",
      "execution_count": 29,
      "id": "b5b3b15e",
      "metadata": {
        "id": "b5b3b15e"
      },
      "outputs": [],
      "source": [
        "# Convert text data to numerical features\n",
        "vectorizer = TfidfVectorizer()\n",
        "X_train_vectorized = vectorizer.fit_transform(X_train)\n",
        "X_test_vectorized = vectorizer.transform(X_test)\n"
      ]
    },
    {
      "cell_type": "code",
      "execution_count": 31,
      "id": "dada6a59",
      "metadata": {
        "scrolled": true,
        "colab": {
          "base_uri": "https://localhost:8080/"
        },
        "id": "dada6a59",
        "outputId": "a9c98009-47eb-4f31-cca7-c55e99b4ef07"
      },
      "outputs": [
        {
          "output_type": "stream",
          "name": "stdout",
          "text": [
            "     ability  able  aboard  abruptly  access  according  account  accountable  \\\n",
            "0        0.0   0.0     0.0       0.0     0.0        0.0      0.0          0.0   \n",
            "1        0.0   0.0     0.0       0.0     0.0        0.0      0.0          0.0   \n",
            "2        0.0   0.0     0.0       0.0     0.0        0.0      0.0          0.0   \n",
            "3        0.0   0.0     0.0       0.0     0.0        0.0      0.0          0.0   \n",
            "4        0.0   0.0     0.0       0.0     0.0        0.0      0.0          0.0   \n",
            "..       ...   ...     ...       ...     ...        ...      ...          ...   \n",
            "395      0.0   0.0     0.0       0.0     0.0        0.0      0.0          0.0   \n",
            "396      0.0   0.0     0.0       0.0     0.0        0.0      0.0          0.0   \n",
            "397      0.0   0.0     0.0       0.0     0.0        0.0      0.0          0.0   \n",
            "398      0.0   0.0     0.0       0.0     0.0        0.0      0.0          0.0   \n",
            "399      0.0   0.0     0.0       0.0     0.0        0.0      0.0          0.0   \n",
            "\n",
            "     accuracy  accused  ...  wundertech  wyoming      year  yesterday  york  \\\n",
            "0         0.0      0.0  ...         0.0      0.0  0.000000        0.0   0.0   \n",
            "1         0.0      0.0  ...         0.0      0.0  0.000000        0.0   0.0   \n",
            "2         0.0      0.0  ...         0.0      0.0  0.000000        0.0   0.0   \n",
            "3         0.0      0.0  ...         0.0      0.0  0.321588        0.0   0.0   \n",
            "4         0.0      0.0  ...         0.0      0.0  0.000000        0.0   0.0   \n",
            "..        ...      ...  ...         ...      ...       ...        ...   ...   \n",
            "395       0.0      0.0  ...         0.0      0.0  0.000000        0.0   0.0   \n",
            "396       0.0      0.0  ...         0.0      0.0  0.000000        0.0   0.0   \n",
            "397       0.0      0.0  ...         0.0      0.0  0.000000        0.0   0.0   \n",
            "398       0.0      0.0  ...         0.0      0.0  0.000000        0.0   0.0   \n",
            "399       0.0      0.0  ...         0.0      0.0  0.000000        0.0   0.0   \n",
            "\n",
            "     youtube  zarzycka  zuckerbe  zuckerberg  zverev  \n",
            "0        0.0       0.0       0.0         0.0     0.0  \n",
            "1        0.0       0.0       0.0         0.0     0.0  \n",
            "2        0.0       0.0       0.0         0.0     0.0  \n",
            "3        0.0       0.0       0.0         0.0     0.0  \n",
            "4        0.0       0.0       0.0         0.0     0.0  \n",
            "..       ...       ...       ...         ...     ...  \n",
            "395      0.0       0.0       0.0         0.0     0.0  \n",
            "396      0.0       0.0       0.0         0.0     0.0  \n",
            "397      0.0       0.0       0.0         0.0     0.0  \n",
            "398      0.0       0.0       0.0         0.0     0.0  \n",
            "399      0.0       0.0       0.0         0.0     0.0  \n",
            "\n",
            "[400 rows x 1720 columns]\n"
          ]
        }
      ],
      "source": [
        "X_train_df = pd.DataFrame(X_train_vectorized.toarray(), columns=vectorizer.get_feature_names_out())\n",
        "\n",
        "print(X_train_df)\n"
      ]
    },
    {
      "cell_type": "code",
      "execution_count": 36,
      "id": "7aadabd8",
      "metadata": {
        "colab": {
          "base_uri": "https://localhost:8080/",
          "height": 668
        },
        "id": "7aadabd8",
        "outputId": "ac8cdf65-8eea-4ccf-cdd9-c57523f3b9b2"
      },
      "outputs": [
        {
          "output_type": "stream",
          "name": "stdout",
          "text": [
            "Confusion Matrix:\n",
            " [[ 7  0  1  2  0]\n",
            " [ 6 20  2  0  0]\n",
            " [ 6  0  5  1  2]\n",
            " [ 9  2  2  9  2]\n",
            " [17  0  1  0  6]]\n",
            "Accuracy: 0.47\n"
          ]
        },
        {
          "output_type": "display_data",
          "data": {
            "text/plain": [
              "<Figure size 800x600 with 2 Axes>"
            ],
            "image/png": "[encoded data removed]"
          },
          "metadata": {}
        }
      ],
      "source": [
        "# Train the Naïve Bayes model\n",
        "nb_classifier = MultinomialNB()\n",
        "nb_classifier.fit(X_train_vectorized, y_train)\n",
        "\n",
        "# Test the model on the Testing Set\n",
        "y_pred = nb_classifier.predict(X_test_vectorized)\n",
        "\n",
        "# Evaluate the model\n",
        "conf_matrix = confusion_matrix(y_test, y_pred)\n",
        "accuracy = accuracy_score(y_test, y_pred)\n",
        "\n",
        "print(\"Confusion Matrix:\\n\", conf_matrix)\n",
        "print(\"Accuracy:\", accuracy)\n",
        "\n",
        "# Visualize the confusion matrix\n",
        "plt.figure(figsize=(8, 6))\n",
        "sns.heatmap(conf_matrix, annot=True, fmt='d', cmap='Blues', xticklabels=['musk', 'bezos', 'buffett',\"Larry Ellison\", \"Bill Gates\"], yticklabels=['musk', 'bezos', 'buffett'])\n",
        "plt.xlabel('Predicted')\n",
        "plt.ylabel('True')\n",
        "plt.show()"
      ]
    },
    {
      "cell_type": "markdown",
      "id": "f2941c32",
      "metadata": {
        "id": "f2941c32"
      },
      "source": [
        "Percentage wise Confusion Matrix"
      ]
    },
    {
      "cell_type": "code",
      "execution_count": 38,
      "id": "9b7ee510",
      "metadata": {
        "colab": {
          "base_uri": "https://localhost:8080/",
          "height": 564
        },
        "id": "9b7ee510",
        "outputId": "bc448c94-d0f4-49f4-c63e-da7948131de5"
      },
      "outputs": [
        {
          "output_type": "display_data",
          "data": {
            "text/plain": [
              "<Figure size 800x600 with 2 Axes>"
            ],
            "image/png": "[encoded data removed]"
          },
          "metadata": {}
        }
      ],
      "source": [
        "# Calculate the percentage confusion matrix\n",
        "conf_matrix_percentage = conf_matrix / conf_matrix.sum(axis=1)[:, np.newaxis]\n",
        "conf_matrix_percentage = np.round(conf_matrix_percentage * 100, 2)\n",
        "\n",
        "# Visualize the percentage confusion matrix\n",
        "plt.figure(figsize=(8, 6))\n",
        "sns.heatmap(conf_matrix_percentage, annot=True, fmt='.2f', cmap='viridis', xticklabels=['musk', 'bezos', 'buffett',\"Larry Ellison\",\"Bill Gates\"], yticklabels=['musk', 'bezos', 'buffett'])\n",
        "plt.xlabel('Predicted')\n",
        "plt.ylabel('True')\n",
        "plt.title('Confusion Matrix (Percentage)')\n",
        "plt.show()\n"
      ]
    },
    {
      "cell_type": "code",
      "execution_count": null,
      "id": "a2001fe7",
      "metadata": {
        "id": "a2001fe7"
      },
      "outputs": [],
      "source": []
    }
  ],
  "metadata": {
    "kernelspec": {
      "display_name": "Python 3 (ipykernel)",
      "language": "python",
      "name": "python3"
    },
    "language_info": {
      "codemirror_mode": {
        "name": "ipython",
        "version": 3
      },
      "file_extension": ".py",
      "mimetype": "text/x-python",
      "name": "python",
      "nbconvert_exporter": "python",
      "pygments_lexer": "ipython3",
      "version": "3.9.12"
    },
    "colab": {
      "provenance": []
    }
  },
  "nbformat": 4,
  "nbformat_minor": 5
}
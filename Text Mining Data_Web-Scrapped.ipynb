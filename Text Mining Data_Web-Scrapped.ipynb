{
 "cells": [
  {
   "cell_type": "code",
   "execution_count": 8,
   "id": "9b06b0c8",
   "metadata": {},
   "outputs": [],
   "source": [
    "import requests  #to query the API \n",
    "import re  #regular expressions\n",
    "import pandas as pd   # for dataframes\n",
    "import os\n",
    "from bs4 import BeautifulSoup\n"
   ]
  },
  {
   "cell_type": "code",
   "execution_count": 9,
   "id": "9962ddf8",
   "metadata": {},
   "outputs": [],
   "source": [
    "newsApiEndPoint=\"https://newsapi.org/v2/everything\"\n",
    "newsApiTopics = [\"Elon Musk\", \"Jeff Bezos\", \"Bill Gates\", \"Larry Ellison\", \"Warren Buffett\"] \n",
    "newsApiURLPost = {'apiKey':'6bccf08b26964d66bd5ee5332ba446b8',\n",
    "                    'searchIn': 'content',\n",
    "                    'language': 'en',\n",
    "                    \n",
    "                    'sortBy' : 'popularity',\n",
    "                    'totalRequests': 1000}"
   ]
  },
  {
   "cell_type": "code",
   "execution_count": 10,
   "id": "1d33093a",
   "metadata": {},
   "outputs": [
    {
     "ename": "FileExistsError",
     "evalue": "[WinError 183] Cannot create a file when that file already exists: 'Web_Scrap\\\\NewsApi'",
     "output_type": "error",
     "traceback": [
      "\u001b[1;31m---------------------------------------------------------------------------\u001b[0m",
      "\u001b[1;31mFileExistsError\u001b[0m                           Traceback (most recent call last)",
      "Cell \u001b[1;32mIn[10], line 4\u001b[0m\n\u001b[0;32m      2\u001b[0m parent_dir \u001b[38;5;241m=\u001b[39m \u001b[38;5;124m\"\u001b[39m\u001b[38;5;124mWeb_Scrap\u001b[39m\u001b[38;5;124m\"\u001b[39m\n\u001b[0;32m      3\u001b[0m path \u001b[38;5;241m=\u001b[39m os\u001b[38;5;241m.\u001b[39mpath\u001b[38;5;241m.\u001b[39mjoin(parent_dir, directory)\n\u001b[1;32m----> 4\u001b[0m os\u001b[38;5;241m.\u001b[39mmkdir(path)\n",
      "\u001b[1;31mFileExistsError\u001b[0m: [WinError 183] Cannot create a file when that file already exists: 'Web_Scrap\\\\NewsApi'"
     ]
    }
   ],
   "source": [
    "directory = \"NewsApi\"\n",
    "parent_dir = \"Web_Scrap\"\n",
    "path = os.path.join(parent_dir, directory)\n",
    "os.mkdir(path)"
   ]
  },
  {
   "cell_type": "code",
   "execution_count": 11,
   "id": "dbfaefd4",
   "metadata": {},
   "outputs": [
    {
     "name": "stdout",
     "output_type": "stream",
     "text": [
      "Empty DataFrame\n",
      "Columns: [Lable, Description, url]\n",
      "Index: []\n",
      "<Response [200]>\n",
      "<Response [200]>\n",
      "Exception occerd\n",
      "https://www.theregister.com/2024/01/22/sierra_space_bursts_fullscale_inflatable/\n",
      "Exception occerd\n",
      "https://www.theregister.com/2024/01/24/birthplace_amazon_for_sale/\n",
      "Exception occerd\n",
      "<Response [200]>\n",
      "Exception occerd\n",
      "https://venturebeat.com/ai/after-ais-summer-whats-next-for-artificial-intelligence/\n",
      "Exception occerd\n",
      "https://www.sciencedaily.com/releases/2024/01/240126001934.htm\n",
      "Exception occerd\n",
      "https://www.theregister.com/2024/01/18/ai_davos_jobs/\n",
      "Exception occerd\n",
      "https://www.theregister.com/2024/01/22/tech_bros_play_god/\n",
      "Exception occerd\n",
      "Exception occerd\n",
      "<Response [200]>\n",
      "Exception occerd\n",
      "https://www.theregister.com/2024/02/05/oracle_database_deal_in_azure/\n",
      "Exception occerd\n",
      "https://www.theregister.com/2024/01/31/oracle_creates_infrastructure_delivery_engineering_team/\n",
      "Exception occerd\n",
      "https://removed.com\n",
      "Exception occerd\n",
      "https://www.latimes.com/entertainment-arts/business/story/2024-02-02/paramount-global-byron-allen-warner-bros-skydance-explained\n",
      "Exception occerd\n",
      "https://removed.com\n",
      "<Response [200]>\n",
      "Exception occerd\n",
      "https://removed.com\n",
      "Exception occerd\n",
      "https://removed.com\n",
      "Empty DataFrame\n",
      "Columns: [Lable, Description, url]\n",
      "Index: []\n"
     ]
    }
   ],
   "source": [
    "newsApiDf=pd.DataFrame({\"Lable\":[],\"Description\":[],\"url\":[]})\n",
    "print(newsApiDf)\n",
    "for topic in newsApiTopics:\n",
    "    newsApiURLPost['q']=topic\n",
    "    filename = 0\n",
    "    newsApiresponse=requests.get(newsApiEndPoint, newsApiURLPost)\n",
    "    print(newsApiresponse)\n",
    "    newsApiJsonTxt = newsApiresponse.json()\n",
    "    \n",
    "    for items in newsApiJsonTxt[\"articles\"]:\n",
    "        try:\n",
    "            page = requests.get(items[\"url\"])\n",
    "        except:\n",
    "            print(\"Exception occerd\")\n",
    "            continue\n",
    "        \n",
    "        soup = BeautifulSoup(page.content, 'html.parser')\n",
    "        try:\n",
    "            tag=soup.body.strings\n",
    "        except:\n",
    "            print(\"Exception occerd\")\n",
    "            print(items[\"url\"])\n",
    "            continue\n",
    "        filename+=1\n",
    "        f = open(path+\"/\"+topic+str(filename)+\".txt\", 'w')\n",
    "        for text in tag:\n",
    "            text=re.sub(r'[^a-zA-Z]', \" \", text, flags=re.VERBOSE)        \n",
    "            f.write(text)\n",
    "f.close()\n",
    "print(newsApiDf)"
   ]
  },
  {
   "cell_type": "code",
   "execution_count": 13,
   "id": "f2416e0d",
   "metadata": {},
   "outputs": [],
   "source": [
    "from sklearn.feature_extraction.text import CountVectorizer"
   ]
  },
  {
   "cell_type": "code",
   "execution_count": 6,
   "id": "5ab8ab48",
   "metadata": {
    "scrolled": true
   },
   "outputs": [
    {
     "name": "stdout",
     "output_type": "stream",
     "text": [
      "['Web_Scrap\\\\NewsApi/Bill Gates1.txt', 'Web_Scrap\\\\NewsApi/Bill Gates10.txt', 'Web_Scrap\\\\NewsApi/Bill Gates11.txt', 'Web_Scrap\\\\NewsApi/Bill Gates12.txt', 'Web_Scrap\\\\NewsApi/Bill Gates13.txt', 'Web_Scrap\\\\NewsApi/Bill Gates14.txt', 'Web_Scrap\\\\NewsApi/Bill Gates15.txt', 'Web_Scrap\\\\NewsApi/Bill Gates16.txt', 'Web_Scrap\\\\NewsApi/Bill Gates17.txt', 'Web_Scrap\\\\NewsApi/Bill Gates18.txt', 'Web_Scrap\\\\NewsApi/Bill Gates19.txt', 'Web_Scrap\\\\NewsApi/Bill Gates2.txt', 'Web_Scrap\\\\NewsApi/Bill Gates20.txt', 'Web_Scrap\\\\NewsApi/Bill Gates21.txt', 'Web_Scrap\\\\NewsApi/Bill Gates22.txt', 'Web_Scrap\\\\NewsApi/Bill Gates23.txt', 'Web_Scrap\\\\NewsApi/Bill Gates24.txt', 'Web_Scrap\\\\NewsApi/Bill Gates25.txt', 'Web_Scrap\\\\NewsApi/Bill Gates26.txt', 'Web_Scrap\\\\NewsApi/Bill Gates27.txt', 'Web_Scrap\\\\NewsApi/Bill Gates28.txt', 'Web_Scrap\\\\NewsApi/Bill Gates29.txt', 'Web_Scrap\\\\NewsApi/Bill Gates3.txt', 'Web_Scrap\\\\NewsApi/Bill Gates30.txt', 'Web_Scrap\\\\NewsApi/Bill Gates31.txt', 'Web_Scrap\\\\NewsApi/Bill Gates32.txt', 'Web_Scrap\\\\NewsApi/Bill Gates33.txt', 'Web_Scrap\\\\NewsApi/Bill Gates34.txt', 'Web_Scrap\\\\NewsApi/Bill Gates35.txt', 'Web_Scrap\\\\NewsApi/Bill Gates36.txt', 'Web_Scrap\\\\NewsApi/Bill Gates37.txt', 'Web_Scrap\\\\NewsApi/Bill Gates38.txt', 'Web_Scrap\\\\NewsApi/Bill Gates39.txt', 'Web_Scrap\\\\NewsApi/Bill Gates4.txt', 'Web_Scrap\\\\NewsApi/Bill Gates40.txt', 'Web_Scrap\\\\NewsApi/Bill Gates41.txt', 'Web_Scrap\\\\NewsApi/Bill Gates42.txt', 'Web_Scrap\\\\NewsApi/Bill Gates43.txt', 'Web_Scrap\\\\NewsApi/Bill Gates44.txt', 'Web_Scrap\\\\NewsApi/Bill Gates45.txt', 'Web_Scrap\\\\NewsApi/Bill Gates46.txt', 'Web_Scrap\\\\NewsApi/Bill Gates47.txt', 'Web_Scrap\\\\NewsApi/Bill Gates48.txt', 'Web_Scrap\\\\NewsApi/Bill Gates49.txt', 'Web_Scrap\\\\NewsApi/Bill Gates5.txt', 'Web_Scrap\\\\NewsApi/Bill Gates50.txt', 'Web_Scrap\\\\NewsApi/Bill Gates51.txt', 'Web_Scrap\\\\NewsApi/Bill Gates52.txt', 'Web_Scrap\\\\NewsApi/Bill Gates53.txt', 'Web_Scrap\\\\NewsApi/Bill Gates54.txt', 'Web_Scrap\\\\NewsApi/Bill Gates55.txt', 'Web_Scrap\\\\NewsApi/Bill Gates56.txt', 'Web_Scrap\\\\NewsApi/Bill Gates57.txt', 'Web_Scrap\\\\NewsApi/Bill Gates58.txt', 'Web_Scrap\\\\NewsApi/Bill Gates59.txt', 'Web_Scrap\\\\NewsApi/Bill Gates6.txt', 'Web_Scrap\\\\NewsApi/Bill Gates60.txt', 'Web_Scrap\\\\NewsApi/Bill Gates61.txt', 'Web_Scrap\\\\NewsApi/Bill Gates62.txt', 'Web_Scrap\\\\NewsApi/Bill Gates63.txt', 'Web_Scrap\\\\NewsApi/Bill Gates64.txt', 'Web_Scrap\\\\NewsApi/Bill Gates65.txt', 'Web_Scrap\\\\NewsApi/Bill Gates66.txt', 'Web_Scrap\\\\NewsApi/Bill Gates67.txt', 'Web_Scrap\\\\NewsApi/Bill Gates68.txt', 'Web_Scrap\\\\NewsApi/Bill Gates69.txt', 'Web_Scrap\\\\NewsApi/Bill Gates7.txt', 'Web_Scrap\\\\NewsApi/Bill Gates70.txt', 'Web_Scrap\\\\NewsApi/Bill Gates71.txt', 'Web_Scrap\\\\NewsApi/Bill Gates72.txt', 'Web_Scrap\\\\NewsApi/Bill Gates73.txt', 'Web_Scrap\\\\NewsApi/Bill Gates74.txt', 'Web_Scrap\\\\NewsApi/Bill Gates75.txt', 'Web_Scrap\\\\NewsApi/Bill Gates76.txt', 'Web_Scrap\\\\NewsApi/Bill Gates77.txt', 'Web_Scrap\\\\NewsApi/Bill Gates78.txt', 'Web_Scrap\\\\NewsApi/Bill Gates79.txt', 'Web_Scrap\\\\NewsApi/Bill Gates8.txt', 'Web_Scrap\\\\NewsApi/Bill Gates80.txt', 'Web_Scrap\\\\NewsApi/Bill Gates81.txt', 'Web_Scrap\\\\NewsApi/Bill Gates82.txt', 'Web_Scrap\\\\NewsApi/Bill Gates83.txt', 'Web_Scrap\\\\NewsApi/Bill Gates84.txt', 'Web_Scrap\\\\NewsApi/Bill Gates85.txt', 'Web_Scrap\\\\NewsApi/Bill Gates86.txt', 'Web_Scrap\\\\NewsApi/Bill Gates87.txt', 'Web_Scrap\\\\NewsApi/Bill Gates88.txt', 'Web_Scrap\\\\NewsApi/Bill Gates89.txt', 'Web_Scrap\\\\NewsApi/Bill Gates9.txt', 'Web_Scrap\\\\NewsApi/Bill Gates90.txt', 'Web_Scrap\\\\NewsApi/Bill Gates91.txt', 'Web_Scrap\\\\NewsApi/Bill Gates92.txt', 'Web_Scrap\\\\NewsApi/Bill Gates93.txt', 'Web_Scrap\\\\NewsApi/Bill Gates94.txt', 'Web_Scrap\\\\NewsApi/Bill Gates95.txt', 'Web_Scrap\\\\NewsApi/Elon Musk1.txt', 'Web_Scrap\\\\NewsApi/Elon Musk10.txt', 'Web_Scrap\\\\NewsApi/Elon Musk100.txt', 'Web_Scrap\\\\NewsApi/Elon Musk11.txt', 'Web_Scrap\\\\NewsApi/Elon Musk12.txt', 'Web_Scrap\\\\NewsApi/Elon Musk13.txt', 'Web_Scrap\\\\NewsApi/Elon Musk14.txt', 'Web_Scrap\\\\NewsApi/Elon Musk15.txt', 'Web_Scrap\\\\NewsApi/Elon Musk16.txt', 'Web_Scrap\\\\NewsApi/Elon Musk17.txt', 'Web_Scrap\\\\NewsApi/Elon Musk18.txt', 'Web_Scrap\\\\NewsApi/Elon Musk19.txt', 'Web_Scrap\\\\NewsApi/Elon Musk2.txt', 'Web_Scrap\\\\NewsApi/Elon Musk20.txt', 'Web_Scrap\\\\NewsApi/Elon Musk21.txt', 'Web_Scrap\\\\NewsApi/Elon Musk22.txt', 'Web_Scrap\\\\NewsApi/Elon Musk23.txt', 'Web_Scrap\\\\NewsApi/Elon Musk24.txt', 'Web_Scrap\\\\NewsApi/Elon Musk25.txt', 'Web_Scrap\\\\NewsApi/Elon Musk26.txt', 'Web_Scrap\\\\NewsApi/Elon Musk27.txt', 'Web_Scrap\\\\NewsApi/Elon Musk28.txt', 'Web_Scrap\\\\NewsApi/Elon Musk29.txt', 'Web_Scrap\\\\NewsApi/Elon Musk3.txt', 'Web_Scrap\\\\NewsApi/Elon Musk30.txt', 'Web_Scrap\\\\NewsApi/Elon Musk31.txt', 'Web_Scrap\\\\NewsApi/Elon Musk32.txt', 'Web_Scrap\\\\NewsApi/Elon Musk33.txt', 'Web_Scrap\\\\NewsApi/Elon Musk34.txt', 'Web_Scrap\\\\NewsApi/Elon Musk35.txt', 'Web_Scrap\\\\NewsApi/Elon Musk36.txt', 'Web_Scrap\\\\NewsApi/Elon Musk37.txt', 'Web_Scrap\\\\NewsApi/Elon Musk38.txt', 'Web_Scrap\\\\NewsApi/Elon Musk39.txt', 'Web_Scrap\\\\NewsApi/Elon Musk4.txt', 'Web_Scrap\\\\NewsApi/Elon Musk40.txt', 'Web_Scrap\\\\NewsApi/Elon Musk41.txt', 'Web_Scrap\\\\NewsApi/Elon Musk42.txt', 'Web_Scrap\\\\NewsApi/Elon Musk43.txt', 'Web_Scrap\\\\NewsApi/Elon Musk44.txt', 'Web_Scrap\\\\NewsApi/Elon Musk45.txt', 'Web_Scrap\\\\NewsApi/Elon Musk46.txt', 'Web_Scrap\\\\NewsApi/Elon Musk47.txt', 'Web_Scrap\\\\NewsApi/Elon Musk48.txt', 'Web_Scrap\\\\NewsApi/Elon Musk49.txt', 'Web_Scrap\\\\NewsApi/Elon Musk5.txt', 'Web_Scrap\\\\NewsApi/Elon Musk50.txt', 'Web_Scrap\\\\NewsApi/Elon Musk51.txt', 'Web_Scrap\\\\NewsApi/Elon Musk52.txt', 'Web_Scrap\\\\NewsApi/Elon Musk53.txt', 'Web_Scrap\\\\NewsApi/Elon Musk54.txt', 'Web_Scrap\\\\NewsApi/Elon Musk55.txt', 'Web_Scrap\\\\NewsApi/Elon Musk56.txt', 'Web_Scrap\\\\NewsApi/Elon Musk57.txt', 'Web_Scrap\\\\NewsApi/Elon Musk58.txt', 'Web_Scrap\\\\NewsApi/Elon Musk59.txt', 'Web_Scrap\\\\NewsApi/Elon Musk6.txt', 'Web_Scrap\\\\NewsApi/Elon Musk60.txt', 'Web_Scrap\\\\NewsApi/Elon Musk61.txt', 'Web_Scrap\\\\NewsApi/Elon Musk62.txt', 'Web_Scrap\\\\NewsApi/Elon Musk63.txt', 'Web_Scrap\\\\NewsApi/Elon Musk64.txt', 'Web_Scrap\\\\NewsApi/Elon Musk65.txt', 'Web_Scrap\\\\NewsApi/Elon Musk66.txt', 'Web_Scrap\\\\NewsApi/Elon Musk67.txt', 'Web_Scrap\\\\NewsApi/Elon Musk68.txt', 'Web_Scrap\\\\NewsApi/Elon Musk69.txt', 'Web_Scrap\\\\NewsApi/Elon Musk7.txt', 'Web_Scrap\\\\NewsApi/Elon Musk70.txt', 'Web_Scrap\\\\NewsApi/Elon Musk71.txt', 'Web_Scrap\\\\NewsApi/Elon Musk72.txt', 'Web_Scrap\\\\NewsApi/Elon Musk73.txt', 'Web_Scrap\\\\NewsApi/Elon Musk74.txt', 'Web_Scrap\\\\NewsApi/Elon Musk75.txt', 'Web_Scrap\\\\NewsApi/Elon Musk76.txt', 'Web_Scrap\\\\NewsApi/Elon Musk77.txt', 'Web_Scrap\\\\NewsApi/Elon Musk78.txt', 'Web_Scrap\\\\NewsApi/Elon Musk79.txt', 'Web_Scrap\\\\NewsApi/Elon Musk8.txt', 'Web_Scrap\\\\NewsApi/Elon Musk80.txt', 'Web_Scrap\\\\NewsApi/Elon Musk81.txt', 'Web_Scrap\\\\NewsApi/Elon Musk82.txt', 'Web_Scrap\\\\NewsApi/Elon Musk83.txt', 'Web_Scrap\\\\NewsApi/Elon Musk84.txt', 'Web_Scrap\\\\NewsApi/Elon Musk85.txt', 'Web_Scrap\\\\NewsApi/Elon Musk86.txt', 'Web_Scrap\\\\NewsApi/Elon Musk87.txt', 'Web_Scrap\\\\NewsApi/Elon Musk88.txt', 'Web_Scrap\\\\NewsApi/Elon Musk89.txt', 'Web_Scrap\\\\NewsApi/Elon Musk9.txt', 'Web_Scrap\\\\NewsApi/Elon Musk90.txt', 'Web_Scrap\\\\NewsApi/Elon Musk91.txt', 'Web_Scrap\\\\NewsApi/Elon Musk92.txt', 'Web_Scrap\\\\NewsApi/Elon Musk93.txt', 'Web_Scrap\\\\NewsApi/Elon Musk94.txt', 'Web_Scrap\\\\NewsApi/Elon Musk95.txt', 'Web_Scrap\\\\NewsApi/Elon Musk96.txt', 'Web_Scrap\\\\NewsApi/Elon Musk97.txt', 'Web_Scrap\\\\NewsApi/Elon Musk98.txt', 'Web_Scrap\\\\NewsApi/Elon Musk99.txt', 'Web_Scrap\\\\NewsApi/Jeff Bezos1.txt', 'Web_Scrap\\\\NewsApi/Jeff Bezos10.txt', 'Web_Scrap\\\\NewsApi/Jeff Bezos11.txt', 'Web_Scrap\\\\NewsApi/Jeff Bezos12.txt', 'Web_Scrap\\\\NewsApi/Jeff Bezos13.txt', 'Web_Scrap\\\\NewsApi/Jeff Bezos14.txt', 'Web_Scrap\\\\NewsApi/Jeff Bezos15.txt', 'Web_Scrap\\\\NewsApi/Jeff Bezos16.txt', 'Web_Scrap\\\\NewsApi/Jeff Bezos17.txt', 'Web_Scrap\\\\NewsApi/Jeff Bezos18.txt', 'Web_Scrap\\\\NewsApi/Jeff Bezos19.txt', 'Web_Scrap\\\\NewsApi/Jeff Bezos2.txt', 'Web_Scrap\\\\NewsApi/Jeff Bezos20.txt', 'Web_Scrap\\\\NewsApi/Jeff Bezos21.txt', 'Web_Scrap\\\\NewsApi/Jeff Bezos22.txt', 'Web_Scrap\\\\NewsApi/Jeff Bezos23.txt', 'Web_Scrap\\\\NewsApi/Jeff Bezos24.txt', 'Web_Scrap\\\\NewsApi/Jeff Bezos25.txt', 'Web_Scrap\\\\NewsApi/Jeff Bezos26.txt', 'Web_Scrap\\\\NewsApi/Jeff Bezos27.txt', 'Web_Scrap\\\\NewsApi/Jeff Bezos28.txt', 'Web_Scrap\\\\NewsApi/Jeff Bezos29.txt', 'Web_Scrap\\\\NewsApi/Jeff Bezos3.txt', 'Web_Scrap\\\\NewsApi/Jeff Bezos30.txt', 'Web_Scrap\\\\NewsApi/Jeff Bezos31.txt', 'Web_Scrap\\\\NewsApi/Jeff Bezos32.txt', 'Web_Scrap\\\\NewsApi/Jeff Bezos33.txt', 'Web_Scrap\\\\NewsApi/Jeff Bezos34.txt', 'Web_Scrap\\\\NewsApi/Jeff Bezos35.txt', 'Web_Scrap\\\\NewsApi/Jeff Bezos36.txt', 'Web_Scrap\\\\NewsApi/Jeff Bezos37.txt', 'Web_Scrap\\\\NewsApi/Jeff Bezos38.txt', 'Web_Scrap\\\\NewsApi/Jeff Bezos39.txt', 'Web_Scrap\\\\NewsApi/Jeff Bezos4.txt', 'Web_Scrap\\\\NewsApi/Jeff Bezos40.txt', 'Web_Scrap\\\\NewsApi/Jeff Bezos41.txt', 'Web_Scrap\\\\NewsApi/Jeff Bezos42.txt', 'Web_Scrap\\\\NewsApi/Jeff Bezos43.txt', 'Web_Scrap\\\\NewsApi/Jeff Bezos44.txt', 'Web_Scrap\\\\NewsApi/Jeff Bezos45.txt', 'Web_Scrap\\\\NewsApi/Jeff Bezos46.txt', 'Web_Scrap\\\\NewsApi/Jeff Bezos47.txt', 'Web_Scrap\\\\NewsApi/Jeff Bezos48.txt', 'Web_Scrap\\\\NewsApi/Jeff Bezos49.txt', 'Web_Scrap\\\\NewsApi/Jeff Bezos5.txt', 'Web_Scrap\\\\NewsApi/Jeff Bezos50.txt', 'Web_Scrap\\\\NewsApi/Jeff Bezos51.txt', 'Web_Scrap\\\\NewsApi/Jeff Bezos52.txt', 'Web_Scrap\\\\NewsApi/Jeff Bezos53.txt', 'Web_Scrap\\\\NewsApi/Jeff Bezos54.txt', 'Web_Scrap\\\\NewsApi/Jeff Bezos55.txt', 'Web_Scrap\\\\NewsApi/Jeff Bezos56.txt', 'Web_Scrap\\\\NewsApi/Jeff Bezos57.txt', 'Web_Scrap\\\\NewsApi/Jeff Bezos58.txt', 'Web_Scrap\\\\NewsApi/Jeff Bezos59.txt', 'Web_Scrap\\\\NewsApi/Jeff Bezos6.txt', 'Web_Scrap\\\\NewsApi/Jeff Bezos60.txt', 'Web_Scrap\\\\NewsApi/Jeff Bezos61.txt', 'Web_Scrap\\\\NewsApi/Jeff Bezos62.txt', 'Web_Scrap\\\\NewsApi/Jeff Bezos63.txt', 'Web_Scrap\\\\NewsApi/Jeff Bezos64.txt', 'Web_Scrap\\\\NewsApi/Jeff Bezos65.txt', 'Web_Scrap\\\\NewsApi/Jeff Bezos66.txt', 'Web_Scrap\\\\NewsApi/Jeff Bezos67.txt', 'Web_Scrap\\\\NewsApi/Jeff Bezos68.txt', 'Web_Scrap\\\\NewsApi/Jeff Bezos69.txt', 'Web_Scrap\\\\NewsApi/Jeff Bezos7.txt', 'Web_Scrap\\\\NewsApi/Jeff Bezos70.txt', 'Web_Scrap\\\\NewsApi/Jeff Bezos71.txt', 'Web_Scrap\\\\NewsApi/Jeff Bezos72.txt', 'Web_Scrap\\\\NewsApi/Jeff Bezos73.txt', 'Web_Scrap\\\\NewsApi/Jeff Bezos74.txt', 'Web_Scrap\\\\NewsApi/Jeff Bezos75.txt', 'Web_Scrap\\\\NewsApi/Jeff Bezos76.txt', 'Web_Scrap\\\\NewsApi/Jeff Bezos77.txt', 'Web_Scrap\\\\NewsApi/Jeff Bezos78.txt', 'Web_Scrap\\\\NewsApi/Jeff Bezos79.txt', 'Web_Scrap\\\\NewsApi/Jeff Bezos8.txt', 'Web_Scrap\\\\NewsApi/Jeff Bezos80.txt', 'Web_Scrap\\\\NewsApi/Jeff Bezos81.txt', 'Web_Scrap\\\\NewsApi/Jeff Bezos82.txt', 'Web_Scrap\\\\NewsApi/Jeff Bezos83.txt', 'Web_Scrap\\\\NewsApi/Jeff Bezos84.txt', 'Web_Scrap\\\\NewsApi/Jeff Bezos85.txt', 'Web_Scrap\\\\NewsApi/Jeff Bezos86.txt', 'Web_Scrap\\\\NewsApi/Jeff Bezos87.txt', 'Web_Scrap\\\\NewsApi/Jeff Bezos88.txt', 'Web_Scrap\\\\NewsApi/Jeff Bezos89.txt', 'Web_Scrap\\\\NewsApi/Jeff Bezos9.txt', 'Web_Scrap\\\\NewsApi/Jeff Bezos90.txt', 'Web_Scrap\\\\NewsApi/Jeff Bezos91.txt', 'Web_Scrap\\\\NewsApi/Jeff Bezos92.txt', 'Web_Scrap\\\\NewsApi/Jeff Bezos93.txt', 'Web_Scrap\\\\NewsApi/Jeff Bezos94.txt', 'Web_Scrap\\\\NewsApi/Jeff Bezos95.txt', 'Web_Scrap\\\\NewsApi/Jeff Bezos96.txt', 'Web_Scrap\\\\NewsApi/Jeff Bezos97.txt', 'Web_Scrap\\\\NewsApi/Larry Ellison1.txt', 'Web_Scrap\\\\NewsApi/Larry Ellison10.txt', 'Web_Scrap\\\\NewsApi/Larry Ellison11.txt', 'Web_Scrap\\\\NewsApi/Larry Ellison12.txt', 'Web_Scrap\\\\NewsApi/Larry Ellison13.txt', 'Web_Scrap\\\\NewsApi/Larry Ellison14.txt', 'Web_Scrap\\\\NewsApi/Larry Ellison15.txt', 'Web_Scrap\\\\NewsApi/Larry Ellison16.txt', 'Web_Scrap\\\\NewsApi/Larry Ellison17.txt', 'Web_Scrap\\\\NewsApi/Larry Ellison18.txt', 'Web_Scrap\\\\NewsApi/Larry Ellison19.txt', 'Web_Scrap\\\\NewsApi/Larry Ellison2.txt', 'Web_Scrap\\\\NewsApi/Larry Ellison20.txt', 'Web_Scrap\\\\NewsApi/Larry Ellison21.txt', 'Web_Scrap\\\\NewsApi/Larry Ellison22.txt', 'Web_Scrap\\\\NewsApi/Larry Ellison23.txt', 'Web_Scrap\\\\NewsApi/Larry Ellison24.txt', 'Web_Scrap\\\\NewsApi/Larry Ellison25.txt', 'Web_Scrap\\\\NewsApi/Larry Ellison26.txt', 'Web_Scrap\\\\NewsApi/Larry Ellison27.txt', 'Web_Scrap\\\\NewsApi/Larry Ellison28.txt', 'Web_Scrap\\\\NewsApi/Larry Ellison29.txt', 'Web_Scrap\\\\NewsApi/Larry Ellison3.txt', 'Web_Scrap\\\\NewsApi/Larry Ellison30.txt', 'Web_Scrap\\\\NewsApi/Larry Ellison31.txt', 'Web_Scrap\\\\NewsApi/Larry Ellison32.txt', 'Web_Scrap\\\\NewsApi/Larry Ellison33.txt', 'Web_Scrap\\\\NewsApi/Larry Ellison34.txt', 'Web_Scrap\\\\NewsApi/Larry Ellison35.txt', 'Web_Scrap\\\\NewsApi/Larry Ellison36.txt', 'Web_Scrap\\\\NewsApi/Larry Ellison37.txt', 'Web_Scrap\\\\NewsApi/Larry Ellison38.txt', 'Web_Scrap\\\\NewsApi/Larry Ellison39.txt', 'Web_Scrap\\\\NewsApi/Larry Ellison4.txt', 'Web_Scrap\\\\NewsApi/Larry Ellison40.txt', 'Web_Scrap\\\\NewsApi/Larry Ellison41.txt', 'Web_Scrap\\\\NewsApi/Larry Ellison42.txt', 'Web_Scrap\\\\NewsApi/Larry Ellison43.txt', 'Web_Scrap\\\\NewsApi/Larry Ellison44.txt', 'Web_Scrap\\\\NewsApi/Larry Ellison45.txt', 'Web_Scrap\\\\NewsApi/Larry Ellison46.txt', 'Web_Scrap\\\\NewsApi/Larry Ellison47.txt', 'Web_Scrap\\\\NewsApi/Larry Ellison48.txt', 'Web_Scrap\\\\NewsApi/Larry Ellison49.txt', 'Web_Scrap\\\\NewsApi/Larry Ellison5.txt', 'Web_Scrap\\\\NewsApi/Larry Ellison50.txt', 'Web_Scrap\\\\NewsApi/Larry Ellison51.txt', 'Web_Scrap\\\\NewsApi/Larry Ellison52.txt', 'Web_Scrap\\\\NewsApi/Larry Ellison53.txt', 'Web_Scrap\\\\NewsApi/Larry Ellison54.txt', 'Web_Scrap\\\\NewsApi/Larry Ellison55.txt', 'Web_Scrap\\\\NewsApi/Larry Ellison56.txt', 'Web_Scrap\\\\NewsApi/Larry Ellison57.txt', 'Web_Scrap\\\\NewsApi/Larry Ellison58.txt', 'Web_Scrap\\\\NewsApi/Larry Ellison59.txt', 'Web_Scrap\\\\NewsApi/Larry Ellison6.txt', 'Web_Scrap\\\\NewsApi/Larry Ellison60.txt', 'Web_Scrap\\\\NewsApi/Larry Ellison61.txt', 'Web_Scrap\\\\NewsApi/Larry Ellison62.txt', 'Web_Scrap\\\\NewsApi/Larry Ellison63.txt', 'Web_Scrap\\\\NewsApi/Larry Ellison64.txt', 'Web_Scrap\\\\NewsApi/Larry Ellison65.txt', 'Web_Scrap\\\\NewsApi/Larry Ellison66.txt', 'Web_Scrap\\\\NewsApi/Larry Ellison67.txt', 'Web_Scrap\\\\NewsApi/Larry Ellison68.txt', 'Web_Scrap\\\\NewsApi/Larry Ellison69.txt', 'Web_Scrap\\\\NewsApi/Larry Ellison7.txt', 'Web_Scrap\\\\NewsApi/Larry Ellison70.txt', 'Web_Scrap\\\\NewsApi/Larry Ellison71.txt', 'Web_Scrap\\\\NewsApi/Larry Ellison72.txt', 'Web_Scrap\\\\NewsApi/Larry Ellison73.txt', 'Web_Scrap\\\\NewsApi/Larry Ellison74.txt', 'Web_Scrap\\\\NewsApi/Larry Ellison75.txt', 'Web_Scrap\\\\NewsApi/Larry Ellison76.txt', 'Web_Scrap\\\\NewsApi/Larry Ellison77.txt', 'Web_Scrap\\\\NewsApi/Larry Ellison78.txt', 'Web_Scrap\\\\NewsApi/Larry Ellison79.txt', 'Web_Scrap\\\\NewsApi/Larry Ellison8.txt', 'Web_Scrap\\\\NewsApi/Larry Ellison80.txt', 'Web_Scrap\\\\NewsApi/Larry Ellison81.txt', 'Web_Scrap\\\\NewsApi/Larry Ellison82.txt', 'Web_Scrap\\\\NewsApi/Larry Ellison83.txt', 'Web_Scrap\\\\NewsApi/Larry Ellison84.txt', 'Web_Scrap\\\\NewsApi/Larry Ellison85.txt', 'Web_Scrap\\\\NewsApi/Larry Ellison86.txt', 'Web_Scrap\\\\NewsApi/Larry Ellison87.txt', 'Web_Scrap\\\\NewsApi/Larry Ellison88.txt', 'Web_Scrap\\\\NewsApi/Larry Ellison89.txt', 'Web_Scrap\\\\NewsApi/Larry Ellison9.txt', 'Web_Scrap\\\\NewsApi/Larry Ellison90.txt', 'Web_Scrap\\\\NewsApi/Larry Ellison91.txt', 'Web_Scrap\\\\NewsApi/Larry Ellison92.txt', 'Web_Scrap\\\\NewsApi/Larry Ellison93.txt', 'Web_Scrap\\\\NewsApi/Larry Ellison94.txt', 'Web_Scrap\\\\NewsApi/Larry Ellison95.txt', 'Web_Scrap\\\\NewsApi/Warren Buffett1.txt', 'Web_Scrap\\\\NewsApi/Warren Buffett10.txt', 'Web_Scrap\\\\NewsApi/Warren Buffett11.txt', 'Web_Scrap\\\\NewsApi/Warren Buffett12.txt', 'Web_Scrap\\\\NewsApi/Warren Buffett13.txt', 'Web_Scrap\\\\NewsApi/Warren Buffett14.txt', 'Web_Scrap\\\\NewsApi/Warren Buffett15.txt', 'Web_Scrap\\\\NewsApi/Warren Buffett16.txt', 'Web_Scrap\\\\NewsApi/Warren Buffett17.txt', 'Web_Scrap\\\\NewsApi/Warren Buffett18.txt', 'Web_Scrap\\\\NewsApi/Warren Buffett19.txt', 'Web_Scrap\\\\NewsApi/Warren Buffett2.txt', 'Web_Scrap\\\\NewsApi/Warren Buffett20.txt', 'Web_Scrap\\\\NewsApi/Warren Buffett21.txt', 'Web_Scrap\\\\NewsApi/Warren Buffett22.txt', 'Web_Scrap\\\\NewsApi/Warren Buffett23.txt', 'Web_Scrap\\\\NewsApi/Warren Buffett24.txt', 'Web_Scrap\\\\NewsApi/Warren Buffett25.txt', 'Web_Scrap\\\\NewsApi/Warren Buffett26.txt', 'Web_Scrap\\\\NewsApi/Warren Buffett27.txt', 'Web_Scrap\\\\NewsApi/Warren Buffett28.txt', 'Web_Scrap\\\\NewsApi/Warren Buffett29.txt', 'Web_Scrap\\\\NewsApi/Warren Buffett3.txt', 'Web_Scrap\\\\NewsApi/Warren Buffett30.txt', 'Web_Scrap\\\\NewsApi/Warren Buffett31.txt', 'Web_Scrap\\\\NewsApi/Warren Buffett32.txt', 'Web_Scrap\\\\NewsApi/Warren Buffett33.txt', 'Web_Scrap\\\\NewsApi/Warren Buffett34.txt', 'Web_Scrap\\\\NewsApi/Warren Buffett35.txt', 'Web_Scrap\\\\NewsApi/Warren Buffett36.txt', 'Web_Scrap\\\\NewsApi/Warren Buffett37.txt', 'Web_Scrap\\\\NewsApi/Warren Buffett38.txt', 'Web_Scrap\\\\NewsApi/Warren Buffett39.txt', 'Web_Scrap\\\\NewsApi/Warren Buffett4.txt', 'Web_Scrap\\\\NewsApi/Warren Buffett40.txt', 'Web_Scrap\\\\NewsApi/Warren Buffett41.txt', 'Web_Scrap\\\\NewsApi/Warren Buffett42.txt', 'Web_Scrap\\\\NewsApi/Warren Buffett43.txt', 'Web_Scrap\\\\NewsApi/Warren Buffett44.txt', 'Web_Scrap\\\\NewsApi/Warren Buffett45.txt', 'Web_Scrap\\\\NewsApi/Warren Buffett46.txt', 'Web_Scrap\\\\NewsApi/Warren Buffett47.txt', 'Web_Scrap\\\\NewsApi/Warren Buffett48.txt', 'Web_Scrap\\\\NewsApi/Warren Buffett49.txt', 'Web_Scrap\\\\NewsApi/Warren Buffett5.txt', 'Web_Scrap\\\\NewsApi/Warren Buffett50.txt', 'Web_Scrap\\\\NewsApi/Warren Buffett51.txt', 'Web_Scrap\\\\NewsApi/Warren Buffett52.txt', 'Web_Scrap\\\\NewsApi/Warren Buffett53.txt', 'Web_Scrap\\\\NewsApi/Warren Buffett54.txt', 'Web_Scrap\\\\NewsApi/Warren Buffett55.txt', 'Web_Scrap\\\\NewsApi/Warren Buffett56.txt', 'Web_Scrap\\\\NewsApi/Warren Buffett57.txt', 'Web_Scrap\\\\NewsApi/Warren Buffett58.txt', 'Web_Scrap\\\\NewsApi/Warren Buffett59.txt', 'Web_Scrap\\\\NewsApi/Warren Buffett6.txt', 'Web_Scrap\\\\NewsApi/Warren Buffett60.txt', 'Web_Scrap\\\\NewsApi/Warren Buffett61.txt', 'Web_Scrap\\\\NewsApi/Warren Buffett62.txt', 'Web_Scrap\\\\NewsApi/Warren Buffett63.txt', 'Web_Scrap\\\\NewsApi/Warren Buffett64.txt', 'Web_Scrap\\\\NewsApi/Warren Buffett65.txt', 'Web_Scrap\\\\NewsApi/Warren Buffett66.txt', 'Web_Scrap\\\\NewsApi/Warren Buffett67.txt', 'Web_Scrap\\\\NewsApi/Warren Buffett68.txt', 'Web_Scrap\\\\NewsApi/Warren Buffett69.txt', 'Web_Scrap\\\\NewsApi/Warren Buffett7.txt', 'Web_Scrap\\\\NewsApi/Warren Buffett70.txt', 'Web_Scrap\\\\NewsApi/Warren Buffett71.txt', 'Web_Scrap\\\\NewsApi/Warren Buffett72.txt', 'Web_Scrap\\\\NewsApi/Warren Buffett73.txt', 'Web_Scrap\\\\NewsApi/Warren Buffett74.txt', 'Web_Scrap\\\\NewsApi/Warren Buffett75.txt', 'Web_Scrap\\\\NewsApi/Warren Buffett76.txt', 'Web_Scrap\\\\NewsApi/Warren Buffett77.txt', 'Web_Scrap\\\\NewsApi/Warren Buffett78.txt', 'Web_Scrap\\\\NewsApi/Warren Buffett79.txt', 'Web_Scrap\\\\NewsApi/Warren Buffett8.txt', 'Web_Scrap\\\\NewsApi/Warren Buffett80.txt', 'Web_Scrap\\\\NewsApi/Warren Buffett81.txt', 'Web_Scrap\\\\NewsApi/Warren Buffett82.txt', 'Web_Scrap\\\\NewsApi/Warren Buffett83.txt', 'Web_Scrap\\\\NewsApi/Warren Buffett84.txt', 'Web_Scrap\\\\NewsApi/Warren Buffett85.txt', 'Web_Scrap\\\\NewsApi/Warren Buffett86.txt', 'Web_Scrap\\\\NewsApi/Warren Buffett87.txt', 'Web_Scrap\\\\NewsApi/Warren Buffett88.txt', 'Web_Scrap\\\\NewsApi/Warren Buffett89.txt', 'Web_Scrap\\\\NewsApi/Warren Buffett9.txt', 'Web_Scrap\\\\NewsApi/Warren Buffett90.txt', 'Web_Scrap\\\\NewsApi/Warren Buffett91.txt', 'Web_Scrap\\\\NewsApi/Warren Buffett92.txt', 'Web_Scrap\\\\NewsApi/Warren Buffett93.txt', 'Web_Scrap\\\\NewsApi/Warren Buffett94.txt', 'Web_Scrap\\\\NewsApi/Warren Buffett95.txt', 'Web_Scrap\\\\NewsApi/Warren Buffett96.txt', 'Web_Scrap\\\\NewsApi/Warren Buffett97.txt', 'Web_Scrap\\\\NewsApi/Warren Buffett98.txt']\n",
      "['Bill Gates', 'Bill Gates', 'Bill Gates', 'Bill Gates', 'Bill Gates', 'Bill Gates', 'Bill Gates', 'Bill Gates', 'Bill Gates', 'Bill Gates', 'Bill Gates', 'Bill Gates', 'Bill Gates', 'Bill Gates', 'Bill Gates', 'Bill Gates', 'Bill Gates', 'Bill Gates', 'Bill Gates', 'Bill Gates', 'Bill Gates', 'Bill Gates', 'Bill Gates', 'Bill Gates', 'Bill Gates', 'Bill Gates', 'Bill Gates', 'Bill Gates', 'Bill Gates', 'Bill Gates', 'Bill Gates', 'Bill Gates', 'Bill Gates', 'Bill Gates', 'Bill Gates', 'Bill Gates', 'Bill Gates', 'Bill Gates', 'Bill Gates', 'Bill Gates', 'Bill Gates', 'Bill Gates', 'Bill Gates', 'Bill Gates', 'Bill Gates', 'Bill Gates', 'Bill Gates', 'Bill Gates', 'Bill Gates', 'Bill Gates', 'Bill Gates', 'Bill Gates', 'Bill Gates', 'Bill Gates', 'Bill Gates', 'Bill Gates', 'Bill Gates', 'Bill Gates', 'Bill Gates', 'Bill Gates', 'Bill Gates', 'Bill Gates', 'Bill Gates', 'Bill Gates', 'Bill Gates', 'Bill Gates', 'Bill Gates', 'Bill Gates', 'Bill Gates', 'Bill Gates', 'Bill Gates', 'Bill Gates', 'Bill Gates', 'Bill Gates', 'Bill Gates', 'Bill Gates', 'Bill Gates', 'Bill Gates', 'Bill Gates', 'Bill Gates', 'Bill Gates', 'Bill Gates', 'Bill Gates', 'Bill Gates', 'Bill Gates', 'Bill Gates', 'Bill Gates', 'Bill Gates', 'Bill Gates', 'Bill Gates', 'Bill Gates', 'Bill Gates', 'Bill Gates', 'Bill Gates', 'Bill Gates', 'Elon Musk', 'Elon Musk', 'Elon Musk', 'Elon Musk', 'Elon Musk', 'Elon Musk', 'Elon Musk', 'Elon Musk', 'Elon Musk', 'Elon Musk', 'Elon Musk', 'Elon Musk', 'Elon Musk', 'Elon Musk', 'Elon Musk', 'Elon Musk', 'Elon Musk', 'Elon Musk', 'Elon Musk', 'Elon Musk', 'Elon Musk', 'Elon Musk', 'Elon Musk', 'Elon Musk', 'Elon Musk', 'Elon Musk', 'Elon Musk', 'Elon Musk', 'Elon Musk', 'Elon Musk', 'Elon Musk', 'Elon Musk', 'Elon Musk', 'Elon Musk', 'Elon Musk', 'Elon Musk', 'Elon Musk', 'Elon Musk', 'Elon Musk', 'Elon Musk', 'Elon Musk', 'Elon Musk', 'Elon Musk', 'Elon Musk', 'Elon Musk', 'Elon Musk', 'Elon Musk', 'Elon Musk', 'Elon Musk', 'Elon Musk', 'Elon Musk', 'Elon Musk', 'Elon Musk', 'Elon Musk', 'Elon Musk', 'Elon Musk', 'Elon Musk', 'Elon Musk', 'Elon Musk', 'Elon Musk', 'Elon Musk', 'Elon Musk', 'Elon Musk', 'Elon Musk', 'Elon Musk', 'Elon Musk', 'Elon Musk', 'Elon Musk', 'Elon Musk', 'Elon Musk', 'Elon Musk', 'Elon Musk', 'Elon Musk', 'Elon Musk', 'Elon Musk', 'Elon Musk', 'Elon Musk', 'Elon Musk', 'Elon Musk', 'Elon Musk', 'Elon Musk', 'Elon Musk', 'Elon Musk', 'Elon Musk', 'Elon Musk', 'Elon Musk', 'Elon Musk', 'Elon Musk', 'Elon Musk', 'Elon Musk', 'Elon Musk', 'Elon Musk', 'Elon Musk', 'Elon Musk', 'Elon Musk', 'Elon Musk', 'Elon Musk', 'Elon Musk', 'Elon Musk', 'Elon Musk', 'Jeff Bezos', 'Jeff Bezos', 'Jeff Bezos', 'Jeff Bezos', 'Jeff Bezos', 'Jeff Bezos', 'Jeff Bezos', 'Jeff Bezos', 'Jeff Bezos', 'Jeff Bezos', 'Jeff Bezos', 'Jeff Bezos', 'Jeff Bezos', 'Jeff Bezos', 'Jeff Bezos', 'Jeff Bezos', 'Jeff Bezos', 'Jeff Bezos', 'Jeff Bezos', 'Jeff Bezos', 'Jeff Bezos', 'Jeff Bezos', 'Jeff Bezos', 'Jeff Bezos', 'Jeff Bezos', 'Jeff Bezos', 'Jeff Bezos', 'Jeff Bezos', 'Jeff Bezos', 'Jeff Bezos', 'Jeff Bezos', 'Jeff Bezos', 'Jeff Bezos', 'Jeff Bezos', 'Jeff Bezos', 'Jeff Bezos', 'Jeff Bezos', 'Jeff Bezos', 'Jeff Bezos', 'Jeff Bezos', 'Jeff Bezos', 'Jeff Bezos', 'Jeff Bezos', 'Jeff Bezos', 'Jeff Bezos', 'Jeff Bezos', 'Jeff Bezos', 'Jeff Bezos', 'Jeff Bezos', 'Jeff Bezos', 'Jeff Bezos', 'Jeff Bezos', 'Jeff Bezos', 'Jeff Bezos', 'Jeff Bezos', 'Jeff Bezos', 'Jeff Bezos', 'Jeff Bezos', 'Jeff Bezos', 'Jeff Bezos', 'Jeff Bezos', 'Jeff Bezos', 'Jeff Bezos', 'Jeff Bezos', 'Jeff Bezos', 'Jeff Bezos', 'Jeff Bezos', 'Jeff Bezos', 'Jeff Bezos', 'Jeff Bezos', 'Jeff Bezos', 'Jeff Bezos', 'Jeff Bezos', 'Jeff Bezos', 'Jeff Bezos', 'Jeff Bezos', 'Jeff Bezos', 'Jeff Bezos', 'Jeff Bezos', 'Jeff Bezos', 'Jeff Bezos', 'Jeff Bezos', 'Jeff Bezos', 'Jeff Bezos', 'Jeff Bezos', 'Jeff Bezos', 'Jeff Bezos', 'Jeff Bezos', 'Jeff Bezos', 'Jeff Bezos', 'Jeff Bezos', 'Jeff Bezos', 'Jeff Bezos', 'Jeff Bezos', 'Jeff Bezos', 'Jeff Bezos', 'Jeff Bezos', 'Larry Ellison', 'Larry Ellison', 'Larry Ellison', 'Larry Ellison', 'Larry Ellison', 'Larry Ellison', 'Larry Ellison', 'Larry Ellison', 'Larry Ellison', 'Larry Ellison', 'Larry Ellison', 'Larry Ellison', 'Larry Ellison', 'Larry Ellison', 'Larry Ellison', 'Larry Ellison', 'Larry Ellison', 'Larry Ellison', 'Larry Ellison', 'Larry Ellison', 'Larry Ellison', 'Larry Ellison', 'Larry Ellison', 'Larry Ellison', 'Larry Ellison', 'Larry Ellison', 'Larry Ellison', 'Larry Ellison', 'Larry Ellison', 'Larry Ellison', 'Larry Ellison', 'Larry Ellison', 'Larry Ellison', 'Larry Ellison', 'Larry Ellison', 'Larry Ellison', 'Larry Ellison', 'Larry Ellison', 'Larry Ellison', 'Larry Ellison', 'Larry Ellison', 'Larry Ellison', 'Larry Ellison', 'Larry Ellison', 'Larry Ellison', 'Larry Ellison', 'Larry Ellison', 'Larry Ellison', 'Larry Ellison', 'Larry Ellison', 'Larry Ellison', 'Larry Ellison', 'Larry Ellison', 'Larry Ellison', 'Larry Ellison', 'Larry Ellison', 'Larry Ellison', 'Larry Ellison', 'Larry Ellison', 'Larry Ellison', 'Larry Ellison', 'Larry Ellison', 'Larry Ellison', 'Larry Ellison', 'Larry Ellison', 'Larry Ellison', 'Larry Ellison', 'Larry Ellison', 'Larry Ellison', 'Larry Ellison', 'Larry Ellison', 'Larry Ellison', 'Larry Ellison', 'Larry Ellison', 'Larry Ellison', 'Larry Ellison', 'Larry Ellison', 'Larry Ellison', 'Larry Ellison', 'Larry Ellison', 'Larry Ellison', 'Larry Ellison', 'Larry Ellison', 'Larry Ellison', 'Larry Ellison', 'Larry Ellison', 'Larry Ellison', 'Larry Ellison', 'Larry Ellison', 'Larry Ellison', 'Larry Ellison', 'Larry Ellison', 'Larry Ellison', 'Larry Ellison', 'Larry Ellison', 'Warren Buffett', 'Warren Buffett', 'Warren Buffett', 'Warren Buffett', 'Warren Buffett', 'Warren Buffett', 'Warren Buffett', 'Warren Buffett', 'Warren Buffett', 'Warren Buffett', 'Warren Buffett', 'Warren Buffett', 'Warren Buffett', 'Warren Buffett', 'Warren Buffett', 'Warren Buffett', 'Warren Buffett', 'Warren Buffett', 'Warren Buffett', 'Warren Buffett', 'Warren Buffett', 'Warren Buffett', 'Warren Buffett', 'Warren Buffett', 'Warren Buffett', 'Warren Buffett', 'Warren Buffett', 'Warren Buffett', 'Warren Buffett', 'Warren Buffett', 'Warren Buffett', 'Warren Buffett', 'Warren Buffett', 'Warren Buffett', 'Warren Buffett', 'Warren Buffett', 'Warren Buffett', 'Warren Buffett', 'Warren Buffett', 'Warren Buffett', 'Warren Buffett', 'Warren Buffett', 'Warren Buffett', 'Warren Buffett', 'Warren Buffett', 'Warren Buffett', 'Warren Buffett', 'Warren Buffett', 'Warren Buffett', 'Warren Buffett', 'Warren Buffett', 'Warren Buffett', 'Warren Buffett', 'Warren Buffett', 'Warren Buffett', 'Warren Buffett', 'Warren Buffett', 'Warren Buffett', 'Warren Buffett', 'Warren Buffett', 'Warren Buffett', 'Warren Buffett', 'Warren Buffett', 'Warren Buffett', 'Warren Buffett', 'Warren Buffett', 'Warren Buffett', 'Warren Buffett', 'Warren Buffett', 'Warren Buffett', 'Warren Buffett', 'Warren Buffett', 'Warren Buffett', 'Warren Buffett', 'Warren Buffett', 'Warren Buffett', 'Warren Buffett', 'Warren Buffett', 'Warren Buffett', 'Warren Buffett', 'Warren Buffett', 'Warren Buffett', 'Warren Buffett', 'Warren Buffett', 'Warren Buffett', 'Warren Buffett', 'Warren Buffett', 'Warren Buffett', 'Warren Buffett', 'Warren Buffett', 'Warren Buffett', 'Warren Buffett', 'Warren Buffett', 'Warren Buffett', 'Warren Buffett', 'Warren Buffett', 'Warren Buffett', 'Warren Buffett']\n"
     ]
    }
   ],
   "source": [
    "FullNameList=[]\n",
    "LablesList=[]\n",
    "for name in os.listdir(path):\n",
    "    FullNameList.append(path+\"/\"+name)\n",
    "    LablesList.append(re.split(r'[123456789]+', name)[0])\n",
    "print(FullNameList)\n",
    "print(LablesList)"
   ]
  },
  {
   "cell_type": "code",
   "execution_count": null,
   "id": "1bbb1655",
   "metadata": {},
   "outputs": [],
   "source": []
  },
  {
   "cell_type": "code",
   "execution_count": 15,
   "id": "2a4cada4",
   "metadata": {},
   "outputs": [
    {
     "name": "stdout",
     "output_type": "stream",
     "text": [
      "   aaa  aadchit  aadhar  aadvantagedelta  aapl  aaron  aaronp  aarons  aarp  \\\n",
      "0    0        0       0                0     0      0       0       0     0   \n",
      "1    0        0       0                0     0      0       0       0     0   \n",
      "2    0        0       0                0     0      0       0       0     0   \n",
      "3    0        0       0                0     0      0       0       0     0   \n",
      "4    0        0       0                0     0      0       0       0     0   \n",
      "\n",
      "   ab  ...  zulu  zumla  zurich  zwxtffjanuary  zydeco  zyme  zymeworks  \\\n",
      "0   0  ...     0      0       0              0       0     0          0   \n",
      "1   0  ...     0      0       0              0       0     0          0   \n",
      "2   0  ...     0      0       0              0       0     0          0   \n",
      "3   0  ...     0      0       0              0       0     0          0   \n",
      "4   0  ...     0      0       0              0       0     0          0   \n",
      "\n",
      "   zzpantwnkm  zzs      LABELS  \n",
      "0           0    0  Bill Gates  \n",
      "1           0    0  Bill Gates  \n",
      "2           0    0  Bill Gates  \n",
      "3           0    0  Bill Gates  \n",
      "4           0    0  Bill Gates  \n",
      "\n",
      "[5 rows x 31565 columns]\n"
     ]
    }
   ],
   "source": [
    "FullNameList = []\n",
    "LabelsList = []\n",
    "\n",
    "for name in os.listdir(path):\n",
    "    FullNameList.append(path + \"/\" + name)\n",
    "    LabelsList.append(re.split(r'[123456789]+', name)[0])\n",
    "\n",
    "scrapedNewsCountVectorizer = CountVectorizer(input=\"filename\", stop_words=\"english\")\n",
    "scrapedNewsData = scrapedNewsCountVectorizer.fit_transform(FullNameList)\n",
    "scrapedNewsColNames = [os.path.basename(fname) for fname in scrapedNewsCountVectorizer.get_feature_names_out()]\n",
    "scrapedNewsDF = pd.DataFrame(scrapedNewsData.toarray(), columns=scrapedNewsColNames)\n",
    "scrapedNewsDF[\"LABELS\"] = LabelsList\n",
    "\n",
    "print(scrapedNewsDF.head())\n"
   ]
  },
  {
   "cell_type": "code",
   "execution_count": null,
   "id": "14bc7cc1",
   "metadata": {},
   "outputs": [],
   "source": []
  }
 ],
 "metadata": {
  "kernelspec": {
   "display_name": "Python 3 (ipykernel)",
   "language": "python",
   "name": "python3"
  },
  "language_info": {
   "codemirror_mode": {
    "name": "ipython",
    "version": 3
   },
   "file_extension": ".py",
   "mimetype": "text/x-python",
   "name": "python",
   "nbconvert_exporter": "python",
   "pygments_lexer": "ipython3",
   "version": "3.11.4"
  }
 },
 "nbformat": 4,
 "nbformat_minor": 5
}
